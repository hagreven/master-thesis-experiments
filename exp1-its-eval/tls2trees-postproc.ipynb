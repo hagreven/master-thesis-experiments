{
 "cells": [
  {
   "cell_type": "markdown",
   "id": "285e95ec",
   "metadata": {},
   "source": [
    "# Notebook for postprocessing TLS2Tree results"
   ]
  },
  {
   "cell_type": "markdown",
   "id": "a4630c62",
   "metadata": {},
   "source": [
    "The goal of this notebook is to merge and substract found instance points from the input cloud to be able to calcualte accuracy metrics. Use venv from home for this."
   ]
  },
  {
   "cell_type": "code",
   "execution_count": 1,
   "id": "26f733cb",
   "metadata": {},
   "outputs": [
    {
     "name": "stdout",
     "output_type": "stream",
     "text": [
      "Jupyter environment detected. Enabling Open3D WebVisualizer.\n",
      "[Open3D INFO] WebRTC GUI backend enabled.\n",
      "[Open3D INFO] WebRTCWindowSystem: HTTP handshake server disabled.\n"
     ]
    }
   ],
   "source": [
    "import open3d as o3d\n",
    "import numpy as np\n",
    "import glob"
   ]
  },
  {
   "cell_type": "code",
   "execution_count": 2,
   "id": "44a0a1b9",
   "metadata": {},
   "outputs": [],
   "source": [
    "# Paths to source PLY files (to be merged)\n",
    "inst_files = glob.glob('/home/hannah.greven/individual-tree-segmentation/data/quick-test-out/tls2trees/clouds/*.leafon.ply')\n",
    "inst_list = [o3d.io.read_point_cloud(f) for f in inst_files]"
   ]
  },
  {
   "cell_type": "code",
   "execution_count": 3,
   "id": "3e189a33",
   "metadata": {},
   "outputs": [],
   "source": [
    "# Merge all PLY files into a single cloud\n",
    "all_inst_points = np.vstack([np.asarray(p.points) for p in inst_list])\n",
    "#inst_merged_cloud = o3d.geometry.PointCloud()\n",
    "#inst_merged_cloud.points = o3d.utility.Vector3dVector(all_inst_points)"
   ]
  },
  {
   "cell_type": "code",
   "execution_count": 4,
   "id": "48174bf1",
   "metadata": {},
   "outputs": [],
   "source": [
    "# Paths to source PLY files (to be merged)\n",
    "tile_files = glob.glob('/home/hannah.greven/individual-tree-segmentation/data/quick-test-out/tls2trees/extraction/downsample/*.ply')\n",
    "tile_list = [o3d.io.read_point_cloud(f) for f in tile_files]"
   ]
  },
  {
   "cell_type": "code",
   "execution_count": 5,
   "id": "c95e19a6",
   "metadata": {},
   "outputs": [],
   "source": [
    "# Merge all PLY files into a single cloud\n",
    "ref_points = np.vstack([np.asarray(p.points) for p in tile_list])\n",
    "#ref_cloud = o3d.geometry.PointCloud()\n",
    "#ref_cloud.points = o3d.utility.Vector3dVector(all_inst_points)"
   ]
  },
  {
   "cell_type": "code",
   "execution_count": 7,
   "id": "9f1eb326",
   "metadata": {},
   "outputs": [],
   "source": [
    "def get_xyz_mat(points):\n",
    "    xyz = np.trunc(points[:, 0] * 1e4) / 1e4, np.trunc(points[:, 1] * 1e4) / 1e4, np.trunc(points[:, 2] * 1e4) / 1e4\n",
    "    return np.stack(xyz, axis=1)"
   ]
  },
  {
   "cell_type": "code",
   "execution_count": 8,
   "id": "6decb155",
   "metadata": {},
   "outputs": [],
   "source": [
    "def get_xyz_arr(points):\n",
    "    xyz = np.trunc(points[0] * 1e4) / 1e4, np.trunc(points[1] * 1e4) / 1e4, np.trunc(points[2] * 1e4) / 1e4\n",
    "    return xyz"
   ]
  },
  {
   "cell_type": "code",
   "execution_count": 9,
   "id": "ea3710e4",
   "metadata": {},
   "outputs": [],
   "source": [
    "# Find unique points in reference not present in merged cloud\n",
    "merged_set = set(map(tuple, get_xyz_mat(all_inst_points)))\n",
    "keep_mask = [tuple(get_xyz_arr(p)) not in merged_set for p in ref_points]\n",
    "residual_points = ref_points[keep_mask]"
   ]
  },
  {
   "cell_type": "code",
   "execution_count": 10,
   "id": "e0f6034b",
   "metadata": {},
   "outputs": [
    {
     "data": {
      "text/plain": [
       "3229750"
      ]
     },
     "execution_count": 10,
     "metadata": {},
     "output_type": "execute_result"
    }
   ],
   "source": [
    "all_inst_points.__len__()"
   ]
  },
  {
   "cell_type": "code",
   "execution_count": 11,
   "id": "8227396a",
   "metadata": {},
   "outputs": [
    {
     "data": {
      "text/plain": [
       "9233764"
      ]
     },
     "execution_count": 11,
     "metadata": {},
     "output_type": "execute_result"
    }
   ],
   "source": [
    "residual_points.__len__()"
   ]
  },
  {
   "cell_type": "code",
   "execution_count": 12,
   "id": "9f411f27",
   "metadata": {},
   "outputs": [
    {
     "data": {
      "text/plain": [
       "12463514"
      ]
     },
     "execution_count": 12,
     "metadata": {},
     "output_type": "execute_result"
    }
   ],
   "source": [
    "ref_points.__len__()"
   ]
  },
  {
   "cell_type": "code",
   "execution_count": 13,
   "id": "ec737701",
   "metadata": {},
   "outputs": [
    {
     "data": {
      "text/plain": [
       "True"
      ]
     },
     "execution_count": 13,
     "metadata": {},
     "output_type": "execute_result"
    }
   ],
   "source": [
    "ref_points.__len__() == all_inst_points.__len__() + residual_points.__len__()"
   ]
  },
  {
   "cell_type": "code",
   "execution_count": 14,
   "id": "fc494638",
   "metadata": {},
   "outputs": [
    {
     "data": {
      "text/plain": [
       "True"
      ]
     },
     "execution_count": 14,
     "metadata": {},
     "output_type": "execute_result"
    }
   ],
   "source": [
    "# Create new point cloud for residual points\n",
    "residual_cloud = o3d.geometry.PointCloud()\n",
    "residual_cloud.points = o3d.utility.Vector3dVector(residual_points)\n",
    "\n",
    "# Save result to disk\n",
    "o3d.io.write_point_cloud('data/tmp/tls2trees_residual.ply', residual_cloud)"
   ]
  },
  {
   "cell_type": "code",
   "execution_count": 69,
   "id": "e7d11fa8",
   "metadata": {},
   "outputs": [],
   "source": [
    "test_pcd = o3d.io.read_point_cloud('/home/hannah.greven/individual-tree-segmentation/data/quick-test/test12.ply')\n",
    "test_points = np.asarray(test_pcd.points)"
   ]
  },
  {
   "cell_type": "code",
   "execution_count": 71,
   "id": "973a6ad5",
   "metadata": {},
   "outputs": [
    {
     "data": {
      "text/plain": [
       "1010534"
      ]
     },
     "execution_count": 71,
     "metadata": {},
     "output_type": "execute_result"
    }
   ],
   "source": [
    "test_points.__len__() - ref_points.__len__()"
   ]
  },
  {
   "cell_type": "code",
   "execution_count": 73,
   "id": "020a7271",
   "metadata": {},
   "outputs": [],
   "source": [
    "# Find unique points in reference not present in merged cloud\n",
    "merged_set = set(map(tuple, get_xyz_mat(ref_points)))\n",
    "keep_mask = [tuple(get_xyz_arr(p)) in merged_set for p in test_points]\n",
    "downsample_test_points = test_points[keep_mask]"
   ]
  },
  {
   "cell_type": "code",
   "execution_count": 74,
   "id": "532c8123",
   "metadata": {},
   "outputs": [
    {
     "data": {
      "text/plain": [
       "21"
      ]
     },
     "execution_count": 74,
     "metadata": {},
     "output_type": "execute_result"
    }
   ],
   "source": [
    "downsample_test_points.__len__()"
   ]
  }
 ],
 "metadata": {
  "kernelspec": {
   "display_name": ".venv",
   "language": "python",
   "name": "python3"
  },
  "language_info": {
   "codemirror_mode": {
    "name": "ipython",
    "version": 3
   },
   "file_extension": ".py",
   "mimetype": "text/x-python",
   "name": "python",
   "nbconvert_exporter": "python",
   "pygments_lexer": "ipython3",
   "version": "3.10.12"
  }
 },
 "nbformat": 4,
 "nbformat_minor": 5
}
