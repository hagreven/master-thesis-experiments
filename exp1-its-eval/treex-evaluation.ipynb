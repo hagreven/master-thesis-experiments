{
 "cells": [
  {
   "cell_type": "markdown",
   "id": "e92e3634",
   "metadata": {},
   "source": [
    "# Evaluate Detection and segmentation accuracy of TreeX"
   ]
  },
  {
   "cell_type": "markdown",
   "id": "9d95d42f",
   "metadata": {},
   "source": [
    "Steps required:\n",
    "- loading the reference and prediction files\n",
    "- make sure XYZ values are truncated after 4 decimal places\n",
    "- sort both by XYZ ascending\n",
    "- make sure instance ids start from -1 (ground) 0-... (trees)\n",
    "- apply metrics calculation "
   ]
  },
  {
   "cell_type": "code",
   "execution_count": 1,
   "id": "c50c05e7",
   "metadata": {},
   "outputs": [],
   "source": [
    "import laspy\n",
    "from pointtree.evaluation import match_instances, instance_segmentation_metrics"
   ]
  },
  {
   "cell_type": "code",
   "execution_count": 2,
   "id": "bcad16c7",
   "metadata": {},
   "outputs": [],
   "source": [
    "# Load the reference and predicted point clouds\n",
    "ref = laspy.read('data/manual.laz')\n",
    "pred = laspy.read('data/treex.laz')"
   ]
  },
  {
   "cell_type": "code",
   "execution_count": 3,
   "id": "89df39ab",
   "metadata": {},
   "outputs": [],
   "source": [
    "import numpy as np"
   ]
  },
  {
   "cell_type": "code",
   "execution_count": 4,
   "id": "d55d2e26",
   "metadata": {},
   "outputs": [],
   "source": [
    "def get_xyz(las:laspy.LasData, decimals:float=4) -> np.ndarray:\n",
    "    \"\"\"Get the xyz coordinates of a las file that are precise to 4 decimal places. \n",
    "    \n",
    "    Truncates all invalid decimals.\n",
    "\n",
    "    Args:\n",
    "        las (laspy.BoundsLasData): point cloud data.\n",
    "        decimals (float, optional): number of valid decimal places. Defaults to 4.\n",
    "\n",
    "    Returns:\n",
    "        numpy.ndarray: xyz coordinates of shape (N, 3)\n",
    "    \"\"\"\n",
    "\n",
    "    scale = 10**decimals\n",
    "\n",
    "    x = np.trunc(las.x * scale) / scale\n",
    "    y = np.trunc(las.y * scale) / scale\n",
    "    z = np.trunc(las.z * scale) / scale\n",
    "\n",
    "    return np.vstack((x, y, z)).T\n",
    "\n",
    "def get_xyz_sorted(las):\n",
    "    \"\"\"Sorts points in given point cloud data by xyz coordinates.\n",
    "\n",
    "    Args:\n",
    "        las (laspy.LasData): the point cloud data to sort.\n",
    "\n",
    "    Returns:\n",
    "        laspy.point.record.ScaleAwarePointRecord: the sorted points.\n",
    "    \"\"\"\n",
    "    coords = get_xyz(las)  # shape (N, 3)\n",
    "\n",
    "    # Get sorting indices by lexicographic ordering of X, then Y, then Z\n",
    "    sorted_indices = np.lexsort((coords[:, 2], coords[:, 1], coords[:, 0]))\n",
    "\n",
    "    # Reorder the entire point record array by these indices\n",
    "    sorted_points = las.points[sorted_indices]\n",
    "\n",
    "    # Create a new LasData object or overwrite the existing one\n",
    "    return sorted_points"
   ]
  },
  {
   "cell_type": "code",
   "execution_count": 5,
   "id": "50172def",
   "metadata": {},
   "outputs": [],
   "source": [
    "sref = get_xyz_sorted(ref)\n",
    "spred = get_xyz_sorted(pred)"
   ]
  },
  {
   "cell_type": "code",
   "execution_count": 6,
   "id": "c1d99139",
   "metadata": {},
   "outputs": [
    {
     "data": {
      "text/plain": [
       "array([[-15.0486,   6.8463,  -4.6444],\n",
       "       [-15.0476,   6.856 ,  -4.6444],\n",
       "       [-15.0461,   6.544 ,  -4.6254],\n",
       "       ...,\n",
       "       [ 15.0382,  -6.5221,  -1.0231],\n",
       "       [ 15.0394,  -6.7211,  -1.2054],\n",
       "       [ 15.0486,  -6.5155,  -1.0131]])"
      ]
     },
     "execution_count": 6,
     "metadata": {},
     "output_type": "execute_result"
    }
   ],
   "source": [
    "xyz_ref = get_xyz(sref)\n",
    "xyz_ref"
   ]
  },
  {
   "cell_type": "code",
   "execution_count": 7,
   "id": "3a2216fe",
   "metadata": {},
   "outputs": [
    {
     "data": {
      "text/plain": [
       "array([[-15.0486,   6.8463,  -4.6444],\n",
       "       [-15.0476,   6.856 ,  -4.6444],\n",
       "       [-15.0461,   6.544 ,  -4.6254],\n",
       "       ...,\n",
       "       [ 15.0382,  -6.5221,  -1.0231],\n",
       "       [ 15.0394,  -6.7211,  -1.2054],\n",
       "       [ 15.0486,  -6.5155,  -1.0131]])"
      ]
     },
     "execution_count": 7,
     "metadata": {},
     "output_type": "execute_result"
    }
   ],
   "source": [
    "xyz_pred = get_xyz(spred)\n",
    "xyz_pred"
   ]
  },
  {
   "cell_type": "code",
   "execution_count": 8,
   "id": "0d16f5e2",
   "metadata": {},
   "outputs": [],
   "source": [
    "assert np.all(get_xyz(sref) == get_xyz(spred)), 'Warning: XYZ coordinates differ!'"
   ]
  },
  {
   "cell_type": "code",
   "execution_count": 11,
   "id": "4c17633f",
   "metadata": {},
   "outputs": [],
   "source": [
    "def get_instance_ids(sorted_las):\n",
    "    \"\"\"Gets the instance ids of sorted point cloud points.\n",
    "\n",
    "    Makes sure instance ids start with -1 (ground) and 0-n (instances).\n",
    "\n",
    "    Args:\n",
    "        sorted_las (_type_): sorted points.\n",
    "\n",
    "    Returns:\n",
    "        numpy.ndarray: _description_\n",
    "    \"\"\"\n",
    "    return sorted_las.instance_id.copy() if sorted_las.instance_id.min() == -1 else (sorted_las.instance_id.astype(int) - 1).copy()"
   ]
  },
  {
   "cell_type": "code",
   "execution_count": 12,
   "id": "a843fd50",
   "metadata": {},
   "outputs": [
    {
     "data": {
      "text/plain": [
       "array([-1,  0,  1,  2,  3,  4,  5,  6,  7,  8,  9, 10, 11, 12, 13, 14])"
      ]
     },
     "execution_count": 12,
     "metadata": {},
     "output_type": "execute_result"
    }
   ],
   "source": [
    "target = get_instance_ids(sref)\n",
    "np.unique(target)"
   ]
  },
  {
   "cell_type": "code",
   "execution_count": 13,
   "id": "2a86d38d",
   "metadata": {},
   "outputs": [
    {
     "data": {
      "text/plain": [
       "array([-1,  0,  1,  2,  3,  4,  5,  6,  7,  8,  9, 10])"
      ]
     },
     "execution_count": 13,
     "metadata": {},
     "output_type": "execute_result"
    }
   ],
   "source": [
    "prediction = get_instance_ids(spred)\n",
    "np.unique(prediction)"
   ]
  },
  {
   "cell_type": "code",
   "execution_count": 14,
   "id": "4733330c",
   "metadata": {},
   "outputs": [],
   "source": [
    "match_result = match_instances(xyz_ref, target, prediction, method='point2tree')"
   ]
  },
  {
   "cell_type": "code",
   "execution_count": 15,
   "id": "9f10926c",
   "metadata": {},
   "outputs": [
    {
     "data": {
      "text/plain": [
       "(array([12,  3, 10,  6,  9,  5, -1, -1, -1,  2,  0]),\n",
       " array([10, -1,  9,  1, -1,  5,  3, -1, -1,  4,  2, -1,  0, -1, -1]))"
      ]
     },
     "execution_count": 15,
     "metadata": {},
     "output_type": "execute_result"
    }
   ],
   "source": [
    "match_result"
   ]
  },
  {
   "cell_type": "code",
   "execution_count": 16,
   "id": "84aa9091",
   "metadata": {},
   "outputs": [
    {
     "data": {
      "text/plain": [
       "({'MeanIoU': 0.43183935, 'MeanPrecision': 0.8110652, 'MeanRecall': 0.5325294},\n",
       "     TargetID  PredictionID       IoU  Precision    Recall\n",
       " 0          0            10  0.588079   0.588079  1.000000\n",
       " 1          1            -1  0.000000        NaN  0.000000\n",
       " 2          2             9  0.300468   0.300468  1.000000\n",
       " 3          3             1  0.985558   0.987968  0.997531\n",
       " 4          4            -1  0.000000        NaN  0.000000\n",
       " 5          5             5  0.948783   0.954706  0.993503\n",
       " 6          6             3  0.995094   0.995137  0.999956\n",
       " 7          7            -1  0.000000        NaN  0.000000\n",
       " 8          8            -1  0.000000        NaN  0.000000\n",
       " 9          9             4  0.943296   0.945168  0.997906\n",
       " 10        10             2  0.892163   0.892394  0.999710\n",
       " 11        11            -1  0.000000        NaN  0.000000\n",
       " 12        12             0  0.824148   0.824601  0.999334\n",
       " 13        13            -1  0.000000        NaN  0.000000\n",
       " 14        14            -1  0.000000        NaN  0.000000)"
      ]
     },
     "execution_count": 16,
     "metadata": {},
     "output_type": "execute_result"
    }
   ],
   "source": [
    "instance_segmentation_metrics(target, prediction, match_result[1])"
   ]
  },
  {
   "cell_type": "code",
   "execution_count": null,
   "id": "7aa08e82",
   "metadata": {},
   "outputs": [],
   "source": [
    "def instance_detection_metrics(match_result:tuple[np.ndarray, np.ndarray], decimals:int=7):\n",
    "    \"\"\"Calculates instance detection metrics (precision, recall, f1-score) from pointtree match instances results.\n",
    "\n",
    "    Returns calculated metrics rounded to a given number of decimal places.\n",
    "\n",
    "    Args:\n",
    "        match_result (tuple[np.ndarray, np.ndarray]): pointtree match instances result.\n",
    "        decimals (int, optional): decimal places the results are rounded to. Defaults to 7.\n",
    "\n",
    "    Returns:\n",
    "        dict: dictionary with precision, recall and f1-score rounded to the given amount of decimal places.\n",
    "    \"\"\"\n",
    "    tp = np.count_nonzero(match_result[0] != -1) # predicted instances that match with a reference instance\n",
    "    fp = np.count_nonzero(match_result[0] == -1) # predicted instances that do not match any reference instance\n",
    "    fn = np.count_nonzero(match_result[1] == -1) # reference instances that do not match any predicted instance\n",
    "\n",
    "    precision = tp / (tp + fp) # user's accuracy (1 - comission)\n",
    "    recall = tp / (tp + fn) # producer's accuracy (1 - omission)\n",
    "    f1 = 2 * (precision * recall) / (precision + recall) # harmonic mean\n",
    "\n",
    "    return {\n",
    "        'Precision': np.round(precision, decimals),\n",
    "        'Recall': np.round(recall, decimals),\n",
    "        'F1-Score': np.round(f1, decimals),\n",
    "    }"
   ]
  },
  {
   "cell_type": "code",
   "execution_count": 18,
   "id": "fb27b783",
   "metadata": {},
   "outputs": [],
   "source": [
    "def accuracy_metrics(target:np.ndarray, prediction:np.ndarray, match_result):\n",
    "    \"\"\"Combines the calculation of instance detection and instance segmentation metrics.\n",
    "\n",
    "    Args:\n",
    "        target (np.ndarray): ground truth instance id for each point.\n",
    "        prediction (np.ndarray): predicted instance id for each point.\n",
    "        match_result (tuple[np.ndarray, np.ndarray]): result fom instance matching.\n",
    "\n",
    "    Returns:\n",
    "        A tuple, that contains the following three element\n",
    "            - a dictionary with detection accuracy metrics The dictionary contains\n",
    "            the following keys: :code:`\"Precision\"`, :code:`\"Recall\"`, and :code:`\"F1-Score\"`.\n",
    "            - A dictionary containing the segmentation metrics averaged over all instance pairs. The dictionary contains\n",
    "            the following keys: :code:`\"MeanIoU\"`, :code:`\"MeanPrecision\"`, and :code:`\"MeanRecall\"`.\n",
    "            - A pandas.DataFrame containing the segmentation metrics for each instance pair. The dataframe contains the\n",
    "            following columns: :code:`\"TargetID\"`, :code:`\"PredictionID\"`, :code:`\"IoU\"`, :code:`\"Precision\"`,\n",
    "            :code:`\"Recall\"`.\n",
    "    \"\"\"\n",
    "    return instance_detection_metrics(match_result), *instance_segmentation_metrics(target, prediction, match_result[1], include_unmatched_instances=True)"
   ]
  },
  {
   "cell_type": "code",
   "execution_count": 19,
   "id": "66e992eb",
   "metadata": {},
   "outputs": [
    {
     "data": {
      "text/plain": [
       "({'Precision': 0.7272727, 'Recall': 0.5333333, 'F1-Score': 0.6153846},\n",
       " {'MeanIoU': 0.43183935, 'MeanPrecision': 0.8110652, 'MeanRecall': 0.5325294},\n",
       "     TargetID  PredictionID       IoU  Precision    Recall\n",
       " 0          0            10  0.588079   0.588079  1.000000\n",
       " 1          1            -1  0.000000        NaN  0.000000\n",
       " 2          2             9  0.300468   0.300468  1.000000\n",
       " 3          3             1  0.985558   0.987968  0.997531\n",
       " 4          4            -1  0.000000        NaN  0.000000\n",
       " 5          5             5  0.948783   0.954706  0.993503\n",
       " 6          6             3  0.995094   0.995137  0.999956\n",
       " 7          7            -1  0.000000        NaN  0.000000\n",
       " 8          8            -1  0.000000        NaN  0.000000\n",
       " 9          9             4  0.943296   0.945168  0.997906\n",
       " 10        10             2  0.892163   0.892394  0.999710\n",
       " 11        11            -1  0.000000        NaN  0.000000\n",
       " 12        12             0  0.824148   0.824601  0.999334\n",
       " 13        13            -1  0.000000        NaN  0.000000\n",
       " 14        14            -1  0.000000        NaN  0.000000)"
      ]
     },
     "execution_count": 19,
     "metadata": {},
     "output_type": "execute_result"
    }
   ],
   "source": [
    "accuracy_metrics(target, prediction, match_result)"
   ]
  }
 ],
 "metadata": {
  "kernelspec": {
   "display_name": ".venv",
   "language": "python",
   "name": "python3"
  },
  "language_info": {
   "codemirror_mode": {
    "name": "ipython",
    "version": 3
   },
   "file_extension": ".py",
   "mimetype": "text/x-python",
   "name": "python",
   "nbconvert_exporter": "python",
   "pygments_lexer": "ipython3",
   "version": "3.10.12"
  }
 },
 "nbformat": 4,
 "nbformat_minor": 5
}
